{
 "cells": [
  {
   "cell_type": "code",
   "execution_count": 7,
   "metadata": {},
   "outputs": [],
   "source": [
    "import tensorflow as tf\n",
    "import numpy as np\n",
    "import pandas as pd"
   ]
  },
  {
   "cell_type": "code",
   "execution_count": 14,
   "metadata": {},
   "outputs": [
    {
     "name": "stdout",
     "output_type": "stream",
     "text": [
      "        userId  movieId  rating   timestamp\n",
      "100831     610   166534     4.0  1493848402\n",
      "100832     610   168248     5.0  1493850091\n",
      "100833     610   168250     5.0  1494273047\n",
      "100834     610   168252     5.0  1493846352\n",
      "100835     610   170875     3.0  1493846415\n"
     ]
    }
   ],
   "source": [
    "ratings_df = pd.read_csv(r\"C:\\Users\\Linzhiping\\Jupyter\\ml-latest-small\\ratings.csv\")\n",
    "ratings_df.tail()\n",
    "movies_df = pd.read_csv(r\"C:\\Users\\Linzhiping\\Jupyter\\ml-latest-small\\movies.csv\")\n",
    "\n",
    "movies_df['movieRow']= movies_df.index  #添加电影行数\n"
   ]
  },
  {
   "cell_type": "code",
   "execution_count": 16,
   "metadata": {},
   "outputs": [
    {
     "data": {
      "text/html": [
       "<div>\n",
       "<style scoped>\n",
       "    .dataframe tbody tr th:only-of-type {\n",
       "        vertical-align: middle;\n",
       "    }\n",
       "\n",
       "    .dataframe tbody tr th {\n",
       "        vertical-align: top;\n",
       "    }\n",
       "\n",
       "    .dataframe thead th {\n",
       "        text-align: right;\n",
       "    }\n",
       "</style>\n",
       "<table border=\"1\" class=\"dataframe\">\n",
       "  <thead>\n",
       "    <tr style=\"text-align: right;\">\n",
       "      <th></th>\n",
       "      <th>userId</th>\n",
       "      <th>movieId</th>\n",
       "      <th>rating</th>\n",
       "      <th>timestamp</th>\n",
       "    </tr>\n",
       "  </thead>\n",
       "  <tbody>\n",
       "    <tr>\n",
       "      <th>100831</th>\n",
       "      <td>610</td>\n",
       "      <td>166534</td>\n",
       "      <td>4.0</td>\n",
       "      <td>1493848402</td>\n",
       "    </tr>\n",
       "    <tr>\n",
       "      <th>100832</th>\n",
       "      <td>610</td>\n",
       "      <td>168248</td>\n",
       "      <td>5.0</td>\n",
       "      <td>1493850091</td>\n",
       "    </tr>\n",
       "    <tr>\n",
       "      <th>100833</th>\n",
       "      <td>610</td>\n",
       "      <td>168250</td>\n",
       "      <td>5.0</td>\n",
       "      <td>1494273047</td>\n",
       "    </tr>\n",
       "    <tr>\n",
       "      <th>100834</th>\n",
       "      <td>610</td>\n",
       "      <td>168252</td>\n",
       "      <td>5.0</td>\n",
       "      <td>1493846352</td>\n",
       "    </tr>\n",
       "    <tr>\n",
       "      <th>100835</th>\n",
       "      <td>610</td>\n",
       "      <td>170875</td>\n",
       "      <td>3.0</td>\n",
       "      <td>1493846415</td>\n",
       "    </tr>\n",
       "  </tbody>\n",
       "</table>\n",
       "</div>"
      ],
      "text/plain": [
       "        userId  movieId  rating   timestamp\n",
       "100831     610   166534     4.0  1493848402\n",
       "100832     610   168248     5.0  1493850091\n",
       "100833     610   168250     5.0  1494273047\n",
       "100834     610   168252     5.0  1493846352\n",
       "100835     610   170875     3.0  1493846415"
      ]
     },
     "execution_count": 16,
     "metadata": {},
     "output_type": "execute_result"
    }
   ],
   "source": [
    "ratings_df.tail()"
   ]
  },
  {
   "cell_type": "code",
   "execution_count": 17,
   "metadata": {},
   "outputs": [
    {
     "data": {
      "text/html": [
       "<div>\n",
       "<style scoped>\n",
       "    .dataframe tbody tr th:only-of-type {\n",
       "        vertical-align: middle;\n",
       "    }\n",
       "\n",
       "    .dataframe tbody tr th {\n",
       "        vertical-align: top;\n",
       "    }\n",
       "\n",
       "    .dataframe thead th {\n",
       "        text-align: right;\n",
       "    }\n",
       "</style>\n",
       "<table border=\"1\" class=\"dataframe\">\n",
       "  <thead>\n",
       "    <tr style=\"text-align: right;\">\n",
       "      <th></th>\n",
       "      <th>movieId</th>\n",
       "      <th>title</th>\n",
       "      <th>genres</th>\n",
       "      <th>movieRow</th>\n",
       "    </tr>\n",
       "  </thead>\n",
       "  <tbody>\n",
       "    <tr>\n",
       "      <th>9737</th>\n",
       "      <td>193581</td>\n",
       "      <td>Black Butler: Book of the Atlantic (2017)</td>\n",
       "      <td>Action|Animation|Comedy|Fantasy</td>\n",
       "      <td>9737</td>\n",
       "    </tr>\n",
       "    <tr>\n",
       "      <th>9738</th>\n",
       "      <td>193583</td>\n",
       "      <td>No Game No Life: Zero (2017)</td>\n",
       "      <td>Animation|Comedy|Fantasy</td>\n",
       "      <td>9738</td>\n",
       "    </tr>\n",
       "    <tr>\n",
       "      <th>9739</th>\n",
       "      <td>193585</td>\n",
       "      <td>Flint (2017)</td>\n",
       "      <td>Drama</td>\n",
       "      <td>9739</td>\n",
       "    </tr>\n",
       "    <tr>\n",
       "      <th>9740</th>\n",
       "      <td>193587</td>\n",
       "      <td>Bungo Stray Dogs: Dead Apple (2018)</td>\n",
       "      <td>Action|Animation</td>\n",
       "      <td>9740</td>\n",
       "    </tr>\n",
       "    <tr>\n",
       "      <th>9741</th>\n",
       "      <td>193609</td>\n",
       "      <td>Andrew Dice Clay: Dice Rules (1991)</td>\n",
       "      <td>Comedy</td>\n",
       "      <td>9741</td>\n",
       "    </tr>\n",
       "  </tbody>\n",
       "</table>\n",
       "</div>"
      ],
      "text/plain": [
       "      movieId                                      title  \\\n",
       "9737   193581  Black Butler: Book of the Atlantic (2017)   \n",
       "9738   193583               No Game No Life: Zero (2017)   \n",
       "9739   193585                               Flint (2017)   \n",
       "9740   193587        Bungo Stray Dogs: Dead Apple (2018)   \n",
       "9741   193609        Andrew Dice Clay: Dice Rules (1991)   \n",
       "\n",
       "                               genres  movieRow  \n",
       "9737  Action|Animation|Comedy|Fantasy      9737  \n",
       "9738         Animation|Comedy|Fantasy      9738  \n",
       "9739                            Drama      9739  \n",
       "9740                 Action|Animation      9740  \n",
       "9741                           Comedy      9741  "
      ]
     },
     "execution_count": 17,
     "metadata": {},
     "output_type": "execute_result"
    }
   ],
   "source": [
    "movies_df.tail()"
   ]
  },
  {
   "cell_type": "code",
   "execution_count": 19,
   "metadata": {},
   "outputs": [],
   "source": [
    "movies_df = movies_df[[\"movieRow\",\"movieId\",\"title\"]]\n",
    "movies_df.to_csv('moviesProcessed.csv',index = False,header = True,encoding =\"utf-8\")\n",
    "ratings_df =pd.merge(ratings_df,movies_df,on = 'movieId')"
   ]
  },
  {
   "cell_type": "code",
   "execution_count": 21,
   "metadata": {},
   "outputs": [],
   "source": [
    "ratings_df = ratings_df[[\"userId\",\"movieRow\",\"rating\"]]\n",
    "ratings_df.to_csv('ratingsProcessed.csv',index =False,header =True,encoding ='utf-8')"
   ]
  },
  {
   "cell_type": "code",
   "execution_count": 23,
   "metadata": {},
   "outputs": [],
   "source": [
    "userNo =ratings_df['userId'].max()+1\n",
    "movieNo =movies_df['movieRow'].max()+1\n",
    "rating = np.zeros((movieNo,userNo))\n",
    "flag =0\n",
    "ratings_df_length = np.shape(ratings_df)[0]\n",
    "for index,row in ratings_df.iterrows():\n",
    "    rating[int(row[\"movieRow\"]),int(row[\"userId\"])] = row[\"rating\"]\n",
    "    flag +=1\n",
    "#    print ( \"processed %d,%d left\" %(flag,ratings_df_length-flag))"
   ]
  },
  {
   "cell_type": "code",
   "execution_count": 27,
   "metadata": {},
   "outputs": [],
   "source": [
    "record = rating > 0\n",
    "record =np.array(record,dtype=int)"
   ]
  },
  {
   "cell_type": "code",
   "execution_count": 28,
   "metadata": {},
   "outputs": [
    {
     "data": {
      "text/plain": [
       "array([[0, 1, 0, ..., 1, 1, 1],\n",
       "       [0, 0, 0, ..., 1, 0, 0],\n",
       "       [0, 1, 0, ..., 1, 0, 0],\n",
       "       ...,\n",
       "       [0, 0, 0, ..., 0, 0, 0],\n",
       "       [0, 0, 0, ..., 0, 0, 0],\n",
       "       [0, 0, 0, ..., 0, 0, 0]])"
      ]
     },
     "execution_count": 28,
     "metadata": {},
     "output_type": "execute_result"
    }
   ],
   "source": [
    "record"
   ]
  },
  {
   "cell_type": "code",
   "execution_count": 34,
   "metadata": {},
   "outputs": [],
   "source": [
    "def normalizeRatings(rating,record):\n",
    "    m,n = rating.shape  #m,n分别为电影数，用户数\n",
    "    rating_mean = np.zeros((m,1)) #记录每部电影的平均分\n",
    "    rating_norm = np.zeros((m,n)) #正规化矩阵\n",
    "    for i in range(m):\n",
    "        idx = record[i,:] != 0   #记录那些评分不为零的下标\n",
    "        rating_mean[i] = np.mean(rating[i,idx]) #求平均\n",
    "        rating_norm [i,idx] -= rating_mean[i] #求正规，好像有负数\n",
    "    return rating_norm,rating_mean"
   ]
  },
  {
   "cell_type": "code",
   "execution_count": 64,
   "metadata": {},
   "outputs": [],
   "source": [
    "rating_norm,rating_mean = normalizeRatings(rating,record)\n",
    "rating_norm =np.nan_to_num(rating_norm)\n",
    "rating_mean =np.nan_to_num(rating_mean)\n",
    "num_features=10\n",
    "X_parameters = tf.Variable(tf.random_normal([movieNo,num_features],stddev = 0.35))\n",
    "Theta_parameters =tf.Variable(tf.random_normal([userNo,num_features],stddev=0.35))\n",
    "#构建损失函数loss\n",
    "loss = 1/2 * tf.reduce_sum(((tf.matmul(X_parameters,Theta_parameters,transpose_b = True)- rating_norm)*record)**2)+ 1/2 *(tf.reduce_sum(X_parameters**2) + tf.reduce_sum(Theta_parameters**2))\n",
    "\n",
    "#将X_parameters，Theta_parameters矩阵相乘相乘之前将Theta_parameters转置\n",
    "#创建优化器和优化目标\n",
    "optimizer = tf.train.AdamOptimizer(1e-2)\n",
    "train = optimizer.minimize(loss)"
   ]
  },
  {
   "cell_type": "code",
   "execution_count": 65,
   "metadata": {},
   "outputs": [],
   "source": [
    "tf.summary.scalar('loss',loss)\n",
    "summaryMerged = tf.summary.merge_all()\n",
    "filename = 'movie_tensorboard'\n",
    "writer = tf.summary.FileWriter(filename)\n",
    "sess = tf.Session()\n",
    "init = tf.global_variables_initializer()\n",
    "sess.run(init)"
   ]
  },
  {
   "cell_type": "raw",
   "metadata": {},
   "source": []
  },
  {
   "cell_type": "code",
   "execution_count": 66,
   "metadata": {},
   "outputs": [],
   "source": [
    "for i in range(900):\n",
    "    _,movie_summary = sess.run([train,summaryMerged])\n",
    "    writer.add_summary(movie_summary, i)"
   ]
  },
  {
   "cell_type": "code",
   "execution_count": 68,
   "metadata": {},
   "outputs": [],
   "source": [
    "Current_X_parameters,Current_Theta_parameters = sess.run([X_parameters,Theta_parameters])\n",
    "predicts = np.dot(Current_X_parameters,Current_Theta_parameters.T)+rating_mean\n",
    "errors = np.sqrt(np.sum((predicts-rating)**2))\n"
   ]
  },
  {
   "cell_type": "code",
   "execution_count": 69,
   "metadata": {},
   "outputs": [
    {
     "data": {
      "text/plain": [
       "2832.064072065368"
      ]
     },
     "execution_count": 69,
     "metadata": {},
     "output_type": "execute_result"
    }
   ],
   "source": [
    "errors"
   ]
  },
  {
   "cell_type": "code",
   "execution_count": 70,
   "metadata": {},
   "outputs": [
    {
     "name": "stdout",
     "output_type": "stream",
     "text": [
      "请输入要推荐的用户编号：213\n",
      "==================================为该用户提供的推荐列表：==================================\n",
      "评分：4.14,电影名：Girls About Town (1931)\n",
      "评分：4.14,电影名：Little Murders (1971)\n",
      "评分：4.13,电影名：Tom and Jerry: Shiver Me Whiskers (2006)\n",
      "评分：4.13,电影名：My Life as McDull (Mak dau goo si) (2001)\n",
      "评分：4.13,电影名：World of Glory (1991)\n",
      "评分：4.13,电影名：Scooby-Doo! Curse of the Lake Monster (2010)\n",
      "评分：4.13,电影名：Bloodsucking Bastards (2015)\n",
      "评分：4.13,电影名：Happy Feet Two (2011)\n",
      "评分：4.13,电影名：Scooby-Doo! and the Loch Ness Monster (2004)\n",
      "评分：4.13,电影名：My Left Eye Sees Ghosts (Ngo joh aan gin diy gwai) (2002)\n",
      "评分：4.13,电影名：The Love Bug (1997)\n",
      "评分：4.13,电影名：Ice Age: The Great Egg-Scapade (2016)\n",
      "评分：4.13,电影名：Saving Santa (2013)\n",
      "评分：4.13,电影名：Watching the Detectives (2007)\n",
      "评分：4.13,电影名：The Eye: Infinity (2005)\n",
      "评分：4.13,电影名：Go for Zucker! (Alles auf Zucker!) (2004)\n",
      "评分：4.13,电影名：National Lampoon's Bag Boy (2007)\n",
      "评分：4.13,电影名：Scooby-Doo! and the Samurai Sword (2009)\n",
      "评分：4.13,电影名：Hunting Elephants (2013)\n",
      "评分：4.13,电影名：Breed, The (2006)\n"
     ]
    }
   ],
   "source": [
    "user_id = input('请输入要推荐的用户编号：')\n",
    "sortedResult = predicts[:,int(user_id)].argsort()[::-1]#获取该用户的电影评分列表\n",
    "idx =0\n",
    "print('为该用户提供的推荐列表：'.center(80,'='))\n",
    "for i in sortedResult:\n",
    "    print('评分：%.2f,电影名：%s'%(predicts[i,int(user_id)],movies_df.iloc[i]['title']))\n",
    "    idx +=1\n",
    "    if idx == 20:break\n"
   ]
  },
  {
   "cell_type": "code",
   "execution_count": null,
   "metadata": {},
   "outputs": [],
   "source": []
  }
 ],
 "metadata": {
  "kernelspec": {
   "display_name": "Python 3",
   "language": "python",
   "name": "python3"
  },
  "language_info": {
   "codemirror_mode": {
    "name": "ipython",
    "version": 3
   },
   "file_extension": ".py",
   "mimetype": "text/x-python",
   "name": "python",
   "nbconvert_exporter": "python",
   "pygments_lexer": "ipython3",
   "version": "3.6.6"
  }
 },
 "nbformat": 4,
 "nbformat_minor": 2
}
